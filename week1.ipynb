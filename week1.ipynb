{
  "nbformat": 4,
  "nbformat_minor": 0,
  "metadata": {
    "colab": {
      "provenance": [],
      "authorship_tag": "ABX9TyPvLJLZAFNkqFUJgioeC0tT",
      "include_colab_link": true
    },
    "kernelspec": {
      "name": "python3",
      "display_name": "Python 3"
    },
    "language_info": {
      "name": "python"
    }
  },
  "cells": [
    {
      "cell_type": "markdown",
      "metadata": {
        "id": "view-in-github",
        "colab_type": "text"
      },
      "source": [
        "<a href=\"https://colab.research.google.com/github/Sudharshana-ps/Week1-Air-Pollution-Risk/blob/main/week1.ipynb\" target=\"_parent\"><img src=\"https://colab.research.google.com/assets/colab-badge.svg\" alt=\"Open In Colab\"/></a>"
      ]
    },
    {
      "cell_type": "markdown",
      "source": [
        "**Project Title:**\n",
        "\n",
        "AIR POLLUTION RISK PREDICTION"
      ],
      "metadata": {
        "id": "ExtHcksoPMkJ"
      }
    },
    {
      "cell_type": "markdown",
      "source": [
        "# **Problem Statement**:\n",
        "Air pollution poses significant risks to human health, environment, and climate stability.  \n",
        "Understanding pollutant levels (such as PM2.5, PM10, NO2, SO2, CO, O3) is critical for predicting air quality risks and planning disaster management strategies in urban areas.  \n"
      ],
      "metadata": {
        "id": "mRHbUQpoNf4A"
      }
    },
    {
      "cell_type": "markdown",
      "source": [
        "# **Description**:\n",
        "This project uses an air quality dataset containing multiple pollutants across cities.  \n",
        "In **Week 1**, we will only focus on exploring the dataset:\n",
        "- Import necessary libraries  \n",
        "- Load the dataset in CSV format  \n",
        "- Explore dataset structure (info, describe, missing values)  \n",
        "\n",
        "This basic exploration will help us understand pollutant patterns and prepare for advanced modeling in upcoming weeks."
      ],
      "metadata": {
        "id": "Fvh6zAMQOJy7"
      }
    },
    {
      "cell_type": "code",
      "source": [
        "\n",
        "# Import Required Libraries\n",
        "import pandas as pd\n",
        "import numpy as np\n"
      ],
      "metadata": {
        "id": "byWD7NpAO_U-"
      },
      "execution_count": null,
      "outputs": []
    },
    {
      "cell_type": "code",
      "source": [
        "# Load the dataset\n",
        "df = pd.read_csv(\"city_day.csv\")   # change filename if needed\n",
        "\n",
        "# Display first 5 rows\n",
        "print(df.head())\n"
      ],
      "metadata": {
        "id": "wiBI3mmpP0ec"
      },
      "execution_count": null,
      "outputs": []
    },
    {
      "cell_type": "code",
      "source": [
        "# Check dataset information\n",
        "df.info()\n"
      ],
      "metadata": {
        "id": "HiJruTSSPEhF"
      },
      "execution_count": null,
      "outputs": []
    },
    {
      "cell_type": "code",
      "source": [
        "# Summary statistics\n",
        "df.describe()\n"
      ],
      "metadata": {
        "id": "ts3PSYHQP5bD"
      },
      "execution_count": null,
      "outputs": []
    },
    {
      "cell_type": "code",
      "source": [
        "# Check for missing values\n",
        "df.isnull().sum()\n"
      ],
      "metadata": {
        "id": "Wf8-55HdP78L"
      },
      "execution_count": null,
      "outputs": []
    }
  ]
}